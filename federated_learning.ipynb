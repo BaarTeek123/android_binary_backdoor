{
 "cells": [
  {
   "attachments": {},
   "cell_type": "markdown",
   "metadata": {},
   "source": [
    "### **Import dependencies**"
   ]
  },
  {
   "cell_type": "code",
   "execution_count": 7,
   "metadata": {},
   "outputs": [],
   "source": [
    "import collections\n",
    "import tensorflow as tf\n",
    "import tensorflow_federated as tff\n",
    "from sklearn.model_selection import train_test_split\n",
    "from sklearn.metrics import classification_report\n",
    "import pandas as pd\n",
    "import numpy as np\n",
    "from classifiers import create_nn"
   ]
  },
  {
   "attachments": {},
   "cell_type": "markdown",
   "metadata": {},
   "source": [
    "### **Setup configuration variables**"
   ]
  },
  {
   "cell_type": "code",
   "execution_count": 6,
   "metadata": {},
   "outputs": [],
   "source": [
    "NUM_CLIENTS = 10\n",
    "NUM_ROUNDS = 10"
   ]
  },
  {
   "attachments": {},
   "cell_type": "markdown",
   "metadata": {},
   "source": [
    "### **Preprocess data**"
   ]
  },
  {
   "cell_type": "code",
   "execution_count": null,
   "metadata": {},
   "outputs": [],
   "source": [
    "df = pd.read_csv('csv_files/merged_df_with_dates.csv', sep=',')\n",
    "attack_type = 'no_attack'\n",
    "\n",
    "X = df.drop('is_malware').select_dtypes(include=['int', 'float']).values\n",
    "y = df['is_malware']\n",
    "\n",
    "# Split the data into training and testing sets\n",
    "X_train, X_test, y_train, y_test = train_test_split(X, y, test_size=0.2, random_state=42)\n",
    "\n",
    "# Convert the data into Tensors\n",
    "X_train = tf.constant(X_train, dtype=tf.float32)\n",
    "y_train = tf.constant(y_train, dtype=tf.int32)\n",
    "X_test = tf.constant(X_test, dtype=tf.float32)\n",
    "y_test = tf.constant(y_test, dtype=tf.int32)\n",
    "\n",
    "# Simulate the clients' data\n",
    "client_data = []\n",
    "for i in range(NUM_CLIENTS):\n",
    "    start = i * len(X_train) // NUM_CLIENTS\n",
    "    end = (i + 1) * len(X_train) // NUM_CLIENTS\n",
    "    client_data.append(\n",
    "        tf.data.Dataset.from_tensor_slices((X_train[start:end], y_train[start:end])).batch(1))\n"
   ]
  },
  {
   "attachments": {},
   "cell_type": "markdown",
   "metadata": {},
   "source": [
    "### **Prepare client models**"
   ]
  },
  {
   "cell_type": "code",
   "execution_count": null,
   "metadata": {
    "collapsed": false,
    "pycharm": {
     "name": "#%%\n"
    }
   },
   "outputs": [],
   "source": [
    "# Create the TFF version of the model\n",
    "def model_fn():\n",
    "    keras_model = create_nn(input_shape=(X.shape[1],), compile=False)\n",
    "    return tff.learning.models.from_keras_model(\n",
    "        keras_model,\n",
    "        input_spec=client_data[0].element_spec,\n",
    "        loss=tf.keras.losses.BinaryCrossentropy(),\n",
    "        metrics=[tf.keras.metrics.BinaryAccuracy()]\n",
    "    )\n",
    "\n",
    "# Create the federated data\n",
    "federated_data = [client_data[i] for i in range(NUM_CLIENTS)]\n",
    "\n",
    "# Create the TFF model and federated learning process\n",
    "federated_averaging_process = tff.learning.algorithms.build_weighted_fed_avg(\n",
    "    model_fn,\n",
    "    client_optimizer_fn=lambda: tf.keras.optimizers.SGD(learning_rate=0.02),\n",
    "    server_optimizer_fn=lambda: tf.keras.optimizers.SGD(learning_rate=1.0)\n",
    ")\n",
    "\n",
    "def train(federated_averaging_process, num_clients_per_round, num_rounds):\n",
    "    state = federated_averaging_process.initialize()\n",
    "\n",
    "    for round_num in range(num_rounds):\n",
    "        sampled_clients = np.random.choice(range(NUM_CLIENTS), size=num_clients_per_round, replace=False)\n",
    "        sampled_train_data = [federated_data[i] for i in sampled_clients]\n",
    "\n",
    "        result = federated_averaging_process.next(state, sampled_train_data)\n",
    "        state = result.state\n",
    "        print(result.metrics['client_work']['train'])\n",
    "\n",
    "train(federated_averaging_process, NUM_CLIENTS, NUM_ROUNDS)\n"
   ]
  }
 ],
 "metadata": {
  "kernelspec": {
   "display_name": "Python 3",
   "language": "python",
   "name": "python3"
  },
  "language_info": {
   "codemirror_mode": {
    "name": "ipython",
    "version": 3
   },
   "file_extension": ".py",
   "mimetype": "text/x-python",
   "name": "python",
   "nbconvert_exporter": "python",
   "pygments_lexer": "ipython3",
   "version": "3.9.13"
  },
  "orig_nbformat": 4,
  "vscode": {
   "interpreter": {
    "hash": "e7370f93d1d0cde622a1f8e1c04877d8463912d04d973331ad4851f04de6915a"
   }
  }
 },
 "nbformat": 4,
 "nbformat_minor": 2
}
