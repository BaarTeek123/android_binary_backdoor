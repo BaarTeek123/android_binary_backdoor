{
 "cells": [
  {
   "attachments": {},
   "cell_type": "markdown",
   "metadata": {},
   "source": [
    "### **Import dependencies**"
   ]
  },
  {
   "cell_type": "code",
   "execution_count": 2,
   "metadata": {
    "ExecuteTime": {
     "end_time": "2023-06-10T14:10:11.356301494Z",
     "start_time": "2023-06-10T14:10:11.327279800Z"
    }
   },
   "outputs": [],
   "source": [
    "import collections\n",
    "import tensorflow as tf\n",
    "import tensorflow_federated as tff\n",
    "from sklearn.model_selection import train_test_split\n",
    "from sklearn.metrics import classification_report\n",
    "import pandas as pd\n",
    "import numpy as np\n",
    "from classifiers import create_nn"
   ]
  },
  {
   "attachments": {},
   "cell_type": "markdown",
   "metadata": {},
   "source": [
    "### **Setup configuration variables**"
   ]
  },
  {
   "cell_type": "code",
   "execution_count": 3,
   "metadata": {
    "ExecuteTime": {
     "end_time": "2023-06-10T14:10:11.442234646Z",
     "start_time": "2023-06-10T14:10:11.340386214Z"
    }
   },
   "outputs": [],
   "source": [
    "NUM_CLIENTS = 10\n",
    "NUM_ROUNDS = 10"
   ]
  },
  {
   "attachments": {},
   "cell_type": "markdown",
   "metadata": {},
   "source": [
    "### **Preprocess data**"
   ]
  },
  {
   "cell_type": "code",
   "execution_count": 10,
   "metadata": {
    "ExecuteTime": {
     "end_time": "2023-06-10T14:16:15.691671111Z",
     "start_time": "2023-06-10T14:16:15.286630870Z"
    }
   },
   "outputs": [
    {
     "name": "stderr",
     "output_type": "stream",
     "text": [
      "2023-06-10 16:16:15.573213: E tensorflow/compiler/xla/stream_executor/cuda/cuda_driver.cc:266] failed call to cuInit: CUDA_ERROR_NO_DEVICE: no CUDA-capable device is detected\n"
     ]
    }
   ],
   "source": [
    "df = pd.read_csv('csv_files/merged_df_with_dates.csv', sep=',')\n",
    "attack_type = 'no_attack'\n",
    "\n",
    "y = df['is_malware']\n",
    "X = df.drop('is_malware', axis=1).select_dtypes(include=['int', 'float']).values\n",
    "\n",
    "# Split the data into training and testing sets\n",
    "X_train, X_test, y_train, y_test = train_test_split(X, y, test_size=0.2, random_state=42)\n",
    "\n",
    "# Convert the data into Tensors\n",
    "X_train = tf.constant(X_train, dtype=tf.float32)\n",
    "y_train = tf.constant(y_train, dtype=tf.int32)\n",
    "X_test = tf.constant(X_test, dtype=tf.float32)\n",
    "y_test = tf.constant(y_test, dtype=tf.int32)\n",
    "\n",
    "# Simulate the clients' data\n",
    "client_data = []\n",
    "for i in range(NUM_CLIENTS):\n",
    "    start = i * len(X_train) // NUM_CLIENTS\n",
    "    end = (i + 1) * len(X_train) // NUM_CLIENTS\n",
    "    client_data.append(\n",
    "        tf.data.Dataset.from_tensor_slices((X_train[start:end], y_train[start:end])).batch(1))\n"
   ]
  },
  {
   "attachments": {},
   "cell_type": "markdown",
   "metadata": {},
   "source": [
    "### **Prepare client models**"
   ]
  },
  {
   "cell_type": "code",
   "execution_count": 11,
   "metadata": {
    "collapsed": false,
    "pycharm": {
     "name": "#%%\n"
    },
    "ExecuteTime": {
     "end_time": "2023-06-10T14:17:09.906456279Z",
     "start_time": "2023-06-10T14:16:21.805859753Z"
    }
   },
   "outputs": [
    {
     "name": "stderr",
     "output_type": "stream",
     "text": [
      "2023-06-10 16:16:26.694374: I tensorflow/core/grappler/devices.cc:66] Number of eligible GPUs (core count >= 8, compute capability >= 0.0): 0\n",
      "2023-06-10 16:16:26.695756: I tensorflow/core/grappler/clusters/single_machine.cc:358] Starting new session\n",
      "2023-06-10 16:16:26.736511: I tensorflow/core/grappler/devices.cc:66] Number of eligible GPUs (core count >= 8, compute capability >= 0.0): 0\n",
      "2023-06-10 16:16:26.736668: I tensorflow/core/grappler/clusters/single_machine.cc:358] Starting new session\n",
      "2023-06-10 16:16:29.865841: I tensorflow/core/grappler/devices.cc:66] Number of eligible GPUs (core count >= 8, compute capability >= 0.0): 0\n",
      "2023-06-10 16:16:29.866086: I tensorflow/core/grappler/clusters/single_machine.cc:358] Starting new session\n",
      "2023-06-10 16:16:30.034476: I tensorflow/core/grappler/devices.cc:66] Number of eligible GPUs (core count >= 8, compute capability >= 0.0): 0\n",
      "2023-06-10 16:16:30.034589: I tensorflow/core/grappler/clusters/single_machine.cc:358] Starting new session\n",
      "2023-06-10 16:16:30.044895: I tensorflow/core/grappler/devices.cc:66] Number of eligible GPUs (core count >= 8, compute capability >= 0.0): 0\n",
      "2023-06-10 16:16:30.045065: I tensorflow/core/grappler/clusters/single_machine.cc:358] Starting new session\n",
      "2023-06-10 16:16:30.062013: I tensorflow/core/grappler/devices.cc:66] Number of eligible GPUs (core count >= 8, compute capability >= 0.0): 0\n",
      "2023-06-10 16:16:30.062184: I tensorflow/core/grappler/clusters/single_machine.cc:358] Starting new session\n",
      "2023-06-10 16:16:30.090148: I tensorflow/core/grappler/devices.cc:66] Number of eligible GPUs (core count >= 8, compute capability >= 0.0): 0\n",
      "2023-06-10 16:16:30.090320: I tensorflow/core/grappler/clusters/single_machine.cc:358] Starting new session\n",
      "2023-06-10 16:16:30.130282: I tensorflow/core/grappler/devices.cc:66] Number of eligible GPUs (core count >= 8, compute capability >= 0.0): 0\n",
      "2023-06-10 16:16:30.130414: I tensorflow/core/grappler/clusters/single_machine.cc:358] Starting new session\n",
      "2023-06-10 16:16:30.150139: I tensorflow/core/grappler/devices.cc:66] Number of eligible GPUs (core count >= 8, compute capability >= 0.0): 0\n",
      "2023-06-10 16:16:30.150309: I tensorflow/core/grappler/clusters/single_machine.cc:358] Starting new session\n",
      "2023-06-10 16:16:30.165863: I tensorflow/core/grappler/devices.cc:66] Number of eligible GPUs (core count >= 8, compute capability >= 0.0): 0\n",
      "2023-06-10 16:16:30.165973: I tensorflow/core/grappler/clusters/single_machine.cc:358] Starting new session\n",
      "2023-06-10 16:16:30.186160: I tensorflow/core/grappler/devices.cc:66] Number of eligible GPUs (core count >= 8, compute capability >= 0.0): 0\n",
      "2023-06-10 16:16:30.186293: I tensorflow/core/grappler/clusters/single_machine.cc:358] Starting new session\n",
      "2023-06-10 16:16:30.198896: I tensorflow/core/grappler/devices.cc:66] Number of eligible GPUs (core count >= 8, compute capability >= 0.0): 0\n",
      "2023-06-10 16:16:30.199007: I tensorflow/core/grappler/clusters/single_machine.cc:358] Starting new session\n",
      "2023-06-10 16:16:30.202233: I tensorflow/core/grappler/devices.cc:66] Number of eligible GPUs (core count >= 8, compute capability >= 0.0): 0\n",
      "2023-06-10 16:16:30.202391: I tensorflow/core/grappler/clusters/single_machine.cc:358] Starting new session\n",
      "2023-06-10 16:16:30.210150: I tensorflow/core/grappler/devices.cc:66] Number of eligible GPUs (core count >= 8, compute capability >= 0.0): 0\n",
      "2023-06-10 16:16:30.210380: I tensorflow/core/grappler/clusters/single_machine.cc:358] Starting new session\n",
      "2023-06-10 16:16:30.224430: I tensorflow/core/grappler/devices.cc:66] Number of eligible GPUs (core count >= 8, compute capability >= 0.0): 0\n",
      "2023-06-10 16:16:30.224551: I tensorflow/core/grappler/clusters/single_machine.cc:358] Starting new session\n",
      "2023-06-10 16:16:30.275149: I tensorflow/core/grappler/devices.cc:66] Number of eligible GPUs (core count >= 8, compute capability >= 0.0): 0\n",
      "2023-06-10 16:16:30.275285: I tensorflow/core/grappler/clusters/single_machine.cc:358] Starting new session\n"
     ]
    },
    {
     "name": "stdout",
     "output_type": "stream",
     "text": [
      "OrderedDict([('binary_accuracy', 0.88065875), ('loss', 0.3070542), ('num_examples', 12569), ('num_batches', 12569)])\n",
      "OrderedDict([('binary_accuracy', 0.9151086), ('loss', 0.23167218), ('num_examples', 12569), ('num_batches', 12569)])\n",
      "OrderedDict([('binary_accuracy', 0.92131436), ('loss', 0.22164986), ('num_examples', 12569), ('num_batches', 12569)])\n",
      "OrderedDict([('binary_accuracy', 0.924815), ('loss', 0.21593095), ('num_examples', 12569), ('num_batches', 12569)])\n",
      "OrderedDict([('binary_accuracy', 0.92576975), ('loss', 0.21222387), ('num_examples', 12569), ('num_batches', 12569)])\n",
      "OrderedDict([('binary_accuracy', 0.9274405), ('loss', 0.20958869), ('num_examples', 12569), ('num_batches', 12569)])\n",
      "OrderedDict([('binary_accuracy', 0.9283953), ('loss', 0.20696983), ('num_examples', 12569), ('num_batches', 12569)])\n",
      "OrderedDict([('binary_accuracy', 0.92887264), ('loss', 0.20485954), ('num_examples', 12569), ('num_batches', 12569)])\n",
      "OrderedDict([('binary_accuracy', 0.9301456), ('loss', 0.20321886), ('num_examples', 12569), ('num_batches', 12569)])\n",
      "OrderedDict([('binary_accuracy', 0.93086165), ('loss', 0.20113663), ('num_examples', 12569), ('num_batches', 12569)])\n"
     ]
    }
   ],
   "source": [
    "# Create the TFF version of the model\n",
    "def model_fn():\n",
    "    keras_model = create_nn(input_shape=(X.shape[1],), compile=False)\n",
    "    return tff.learning.models.from_keras_model(\n",
    "        keras_model,\n",
    "        input_spec=client_data[0].element_spec,\n",
    "        loss=tf.keras.losses.BinaryCrossentropy(),\n",
    "        metrics=[tf.keras.metrics.BinaryAccuracy()]\n",
    "    )\n",
    "\n",
    "# Create the federated data\n",
    "federated_data = [client_data[i] for i in range(NUM_CLIENTS)]\n",
    "\n",
    "# Create the TFF model and federated learning process\n",
    "federated_averaging_process = tff.learning.algorithms.build_weighted_fed_avg(\n",
    "    model_fn,\n",
    "    client_optimizer_fn=lambda: tf.keras.optimizers.SGD(learning_rate=0.02),\n",
    "    server_optimizer_fn=lambda: tf.keras.optimizers.SGD(learning_rate=1.0)\n",
    ")\n",
    "\n",
    "def train(federated_averaging_process, num_clients_per_round, num_rounds):\n",
    "    state = federated_averaging_process.initialize()\n",
    "\n",
    "    for round_num in range(num_rounds):\n",
    "        sampled_clients = np.random.choice(range(NUM_CLIENTS), size=num_clients_per_round, replace=False)\n",
    "        sampled_train_data = [federated_data[i] for i in sampled_clients]\n",
    "\n",
    "        result = federated_averaging_process.next(state, sampled_train_data)\n",
    "        state = result.state\n",
    "        print(result.metrics['client_work']['train'])\n",
    "\n",
    "train(federated_averaging_process, NUM_CLIENTS, NUM_ROUNDS)\n"
   ]
  },
  {
   "cell_type": "code",
   "execution_count": null,
   "outputs": [],
   "source": [],
   "metadata": {
    "collapsed": false
   }
  }
 ],
 "metadata": {
  "kernelspec": {
   "display_name": "Python 3",
   "language": "python",
   "name": "python3"
  },
  "language_info": {
   "codemirror_mode": {
    "name": "ipython",
    "version": 3
   },
   "file_extension": ".py",
   "mimetype": "text/x-python",
   "name": "python",
   "nbconvert_exporter": "python",
   "pygments_lexer": "ipython3",
   "version": "3.9.13"
  },
  "orig_nbformat": 4,
  "vscode": {
   "interpreter": {
    "hash": "e7370f93d1d0cde622a1f8e1c04877d8463912d04d973331ad4851f04de6915a"
   }
  }
 },
 "nbformat": 4,
 "nbformat_minor": 2
}
