{
 "cells": [
  {
   "cell_type": "markdown",
   "metadata": {},
   "source": [
    "## **Import dependencies**"
   ]
  },
  {
   "cell_type": "code",
   "execution_count": 1,
   "metadata": {},
   "outputs": [
    {
     "name": "stderr",
     "output_type": "stream",
     "text": [
      "2023-05-29 00:45:10.634666: I tensorflow/tsl/cuda/cudart_stub.cc:28] Could not find cuda drivers on your machine, GPU will not be used.\n",
      "2023-05-29 00:45:10.683027: I tensorflow/tsl/cuda/cudart_stub.cc:28] Could not find cuda drivers on your machine, GPU will not be used.\n",
      "2023-05-29 00:45:10.683703: I tensorflow/core/platform/cpu_feature_guard.cc:182] This TensorFlow binary is optimized to use available CPU instructions in performance-critical operations.\n",
      "To enable the following instructions: AVX2 FMA, in other operations, rebuild TensorFlow with the appropriate compiler flags.\n",
      "2023-05-29 00:45:11.503047: W tensorflow/compiler/tf2tensorrt/utils/py_utils.cc:38] TF-TRT Warning: Could not find TensorRT\n"
     ]
    }
   ],
   "source": [
    "import pandas as pd    \n",
    "import numpy as np\n",
    "import matplotlib.pyplot as plt\n",
    "from random import randint\n",
    "from sklearn.ensemble import RandomForestClassifier\n",
    "from sklearn.svm import SVC\n",
    "from sklearn.model_selection import StratifiedKFold\n",
    "from sklearn.model_selection import RepeatedStratifiedKFold\n",
    "from sklearn.metrics import classification_report\n",
    "from utils_backdoor import run_cv\n",
    "from create_nn import create_nn, build_tuned_nn"
   ]
  },
  {
   "cell_type": "markdown",
   "metadata": {},
   "source": [
    "### Create a dataframe"
   ]
  },
  {
   "cell_type": "code",
   "execution_count": 2,
   "metadata": {},
   "outputs": [],
   "source": [
    "# non_malware_df = pd.read_csv('output_malware.csv')\n",
    "# malware_df = pd.read_csv('output_non_malware.csv')\n",
    "# malware_df['is_malware'] = 1\n",
    "# non_malware_df['is_malware'] = 0\n",
    "# df = pd.concat([malware_df, non_malware_df]).astype('float16')\n",
    "# del malware_df, non_malware_df\n",
    "# attack_type = 'no_attack'\n",
    "# # attack_type = 'random_number'\n",
    "# # attack_type = 'gaussian_signal_noise'\n",
    "# # attack_type = 'signal_noise'\n",
    "# # attack_type = 'function_from_article'"
   ]
  },
  {
   "attachments": {},
   "cell_type": "markdown",
   "metadata": {},
   "source": [
    "### Read a dataframe"
   ]
  },
  {
   "cell_type": "code",
   "execution_count": 11,
   "metadata": {},
   "outputs": [],
   "source": [
    "df = pd.read_csv('./csv_files/merged_df_with_dates.csv', index_col='SHA256')\n",
    "df.head()\n",
    "attack_type = 'no_attack'\n",
    "# attack_type = 'random_number'\n",
    "# attack_type = 'gaussian_signal_noise'\n",
    "# attack_type = 'signal_noise'\n",
    "# attack_type = 'function_from_article'\n",
    "y = df['is_malware']\n",
    "X = df.drop('is_malware', axis=1)\n",
    "\n",
    "\n",
    "# kfold = StratifiedKFold(n_splits=5, shuffle=True, random_state=42)"
   ]
  },
  {
   "cell_type": "markdown",
   "metadata": {},
   "source": [
    "### Implement attack type"
   ]
  },
  {
   "cell_type": "code",
   "execution_count": 12,
   "metadata": {},
   "outputs": [],
   "source": [
    "if  attack_type == 'random_number':\n",
    "    from backdoor_attacks import add_random_binary \n",
    "    from random import randint\n",
    "    down, up = 1, 20\n",
    "    X = X.apply(lambda row: add_random_binary(row, randint(down, up), axis=1, result_type='broadcast'))\n",
    " \n",
    "elif attack_type == 'gaussian_signal_noise':\n",
    "    from backdoor_attacks import add_noise, gaussian_noise  \n",
    "    X = X.apply(lambda row: add_noise(row, gaussian_noise), axis=1)\n",
    "\n",
    "elif attack_type == 'signal_noise':\n",
    "    from backdoor_attacks import add_noise, uniform_noise  \n",
    "    X = X.apply(lambda row: add_noise(row, uniform_noise), axis=1)"
   ]
  },
  {
   "cell_type": "markdown",
   "metadata": {},
   "source": [
    "### **Define classifiers**"
   ]
  },
  {
   "cell_type": "code",
   "execution_count": 16,
   "metadata": {},
   "outputs": [],
   "source": [
    "classifiers = [\n",
    "    (create_nn, {'input_shape': X.shape[1]}, 'Neural Network'),\n",
    "    (RandomForestClassifier, {'n_estimators': 100, 'max_depth': 2}, 'Random Forest'),\n",
    "    (SVC, {'kernel': 'linear', 'C': 1.0}, 'SVM')]"
   ]
  },
  {
   "cell_type": "markdown",
   "metadata": {},
   "source": [
    "#### Run cross validation for each classifier & save results to df "
   ]
  },
  {
   "cell_type": "code",
   "execution_count": 22,
   "metadata": {},
   "outputs": [],
   "source": [
    "results = [result for clf, params, name in classifiers for result in run_cv(X, y, clf, params, name)]\n",
    "results_df = pd.DataFrame(results)\n",
    "results_df.to_csv(f'{attack_type}_results.csv', mode='a+')"
   ]
  }
 ],
 "metadata": {
  "kernelspec": {
   "display_name": "Python 3 (ipykernel)",
   "language": "python",
   "name": "python3"
  },
  "language_info": {
   "codemirror_mode": {
    "name": "ipython",
    "version": 3
   },
   "file_extension": ".py",
   "mimetype": "text/x-python",
   "name": "python",
   "nbconvert_exporter": "python",
   "pygments_lexer": "ipython3",
   "version": "3.11.2"
  }
 },
 "nbformat": 4,
 "nbformat_minor": 2
}
