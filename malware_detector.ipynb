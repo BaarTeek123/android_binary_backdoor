{
 "cells": [
  {
   "cell_type": "markdown",
   "metadata": {},
   "source": [
    "## **Import dependencies**"
   ]
  },
  {
   "cell_type": "code",
   "execution_count": 1,
   "metadata": {
    "ExecuteTime": {
     "end_time": "2023-05-31T17:53:58.788168077Z",
     "start_time": "2023-05-31T17:53:44.598552665Z"
    }
   },
   "outputs": [
    {
     "name": "stderr",
     "output_type": "stream",
     "text": [
      "2023-05-31 19:53:47.463002: I tensorflow/tsl/cuda/cudart_stub.cc:28] Could not find cuda drivers on your machine, GPU will not be used.\n",
      "2023-05-31 19:53:48.063052: I tensorflow/tsl/cuda/cudart_stub.cc:28] Could not find cuda drivers on your machine, GPU will not be used.\n",
      "2023-05-31 19:53:48.066391: I tensorflow/core/platform/cpu_feature_guard.cc:182] This TensorFlow binary is optimized to use available CPU instructions in performance-critical operations.\n",
      "To enable the following instructions: AVX2 FMA, in other operations, rebuild TensorFlow with the appropriate compiler flags.\n",
      "2023-05-31 19:53:53.067805: W tensorflow/compiler/tf2tensorrt/utils/py_utils.cc:38] TF-TRT Warning: Could not find TensorRT\n"
     ]
    }
   ],
   "source": [
    "import pandas as pd    \n",
    "import numpy as np\n",
    "import matplotlib.pyplot as plt\n",
    "from random import randint\n",
    "from sklearn.ensemble import RandomForestClassifier\n",
    "from sklearn.svm import SVC\n",
    "from sklearn.model_selection import StratifiedKFold\n",
    "from sklearn.model_selection import RepeatedStratifiedKFold\n",
    "from sklearn.metrics import classification_report\n",
    "from classifiers import create_nn, build_tuned_nn"
   ]
  },
  {
   "cell_type": "markdown",
   "metadata": {},
   "source": [
    "### Create a dataframe"
   ]
  },
  {
   "cell_type": "code",
   "execution_count": 20,
   "metadata": {},
   "outputs": [],
   "source": [
    "# non_malware_df = pd.read_csv('csv_files/non_malware.csv')\n",
    "# malware_df = pd.read_csv('csv_files/malware.csv')\n",
    "# malware_df['is_malware'] = 1\n",
    "# non_malware_df['is_malware'] = 0\n",
    "# df = pd.concat([malware_df, non_malware_df]).astype('float16')\n",
    "# del malware_df, non_malware_df\n",
    "# attack_type = 'no_attack'\n",
    "# attack_type = 'random_number'\n",
    "# attack_type = 'gaussian_signal_noise'\n",
    "# attack_type = 'signal_noise'\n",
    "# attack_type = 'function_from_article'"
   ]
  },
  {
   "cell_type": "markdown",
   "metadata": {},
   "source": [
    "### Read a dataframe"
   ]
  },
  {
   "cell_type": "code",
   "execution_count": 2,
   "metadata": {
    "ExecuteTime": {
     "end_time": "2023-05-31T17:54:43.146358326Z",
     "start_time": "2023-05-31T17:54:42.471232401Z"
    }
   },
   "outputs": [],
   "source": [
    "df = pd.read_csv('./csv_files/merged_df_with_dates.csv', index_col='SHA256')\n",
    "df.head()\n",
    "# attack_type = 'no_attack'\n",
    "# attack_type = 'random_specific_size'\n",
    "# attack_type = 'random_number'\n",
    "# attack_type = 'gaussian_signal_noise'\n",
    "# attack_type = 'signal_noise'\n",
    "attack_type = 'function_from_article'\n",
    "y = df['is_malware']\n",
    "X = df.drop('is_malware', axis=1)\n",
    "\n",
    "# kfold = StratifiedKFold(n_splits=5, shuffle=True, random_state=42)"
   ]
  },
  {
   "cell_type": "markdown",
   "metadata": {},
   "source": [
    "### **Define classifiers**"
   ]
  },
  {
   "cell_type": "code",
   "execution_count": 3,
   "metadata": {
    "ExecuteTime": {
     "end_time": "2023-05-31T17:54:45.764885365Z",
     "start_time": "2023-05-31T17:54:45.724130782Z"
    }
   },
   "outputs": [],
   "source": [
    "classifiers = [\n",
    "    (create_nn, {'input_shape': X.shape[1]}, 'Neural Network'),\n",
    "    (RandomForestClassifier, {'n_estimators': 100, 'max_depth': 2}, 'Random Forest'),\n",
    "    (SVC, {'kernel': 'linear', 'C': 1.0}, 'SVM')]"
   ]
  },
  {
   "cell_type": "markdown",
   "metadata": {},
   "source": [
    "### Implement attack type"
   ]
  },
  {
   "cell_type": "code",
   "execution_count": 4,
   "metadata": {
    "ExecuteTime": {
     "end_time": "2023-05-31T17:54:52.326758078Z",
     "start_time": "2023-05-31T17:54:48.110351020Z"
    }
   },
   "outputs": [
    {
     "name": "stderr",
     "output_type": "stream",
     "text": [
      "2023-05-31 19:54:48.447748: E tensorflow/compiler/xla/stream_executor/cuda/cuda_driver.cc:266] failed call to cuInit: CUDA_ERROR_NO_DEVICE: no CUDA-capable device is detected\n"
     ]
    },
    {
     "ename": "ValueError",
     "evalue": "Failed to convert a NumPy array to a Tensor (Unsupported object type float).",
     "output_type": "error",
     "traceback": [
      "\u001B[0;31m---------------------------------------------------------------------------\u001B[0m",
      "\u001B[0;31mValueError\u001B[0m                                Traceback (most recent call last)",
      "Cell \u001B[0;32mIn[4], line 40\u001B[0m\n\u001B[1;32m     38\u001B[0m results \u001B[38;5;241m=\u001B[39m []\n\u001B[1;32m     39\u001B[0m \u001B[38;5;28;01mfor\u001B[39;00m clf, params, name \u001B[38;5;129;01min\u001B[39;00m classifiers:\n\u001B[0;32m---> 40\u001B[0m     model \u001B[38;5;241m=\u001B[39m \u001B[43mfit_model\u001B[49m\u001B[43m(\u001B[49m\u001B[43mX\u001B[49m\u001B[43m,\u001B[49m\u001B[43m \u001B[49m\u001B[43my\u001B[49m\u001B[43m,\u001B[49m\u001B[43m \u001B[49m\u001B[43mclf\u001B[49m\u001B[43m,\u001B[49m\u001B[43m \u001B[49m\u001B[43mparams\u001B[49m\u001B[43m,\u001B[49m\u001B[43m \u001B[49m\u001B[43mname\u001B[49m\u001B[43m)\u001B[49m\n\u001B[1;32m     41\u001B[0m     retrain_model \u001B[38;5;241m=\u001B[39m \u001B[38;5;28;01mlambda\u001B[39;00m training_set: get_model_weights(fit_model(training_set[\u001B[38;5;241m0\u001B[39m], training_set[\u001B[38;5;241m1\u001B[39m], clf, params, name))\n\u001B[1;32m     42\u001B[0m     trigger_size, immutable_positions \u001B[38;5;241m=\u001B[39m \u001B[38;5;241m10\u001B[39m, []\n",
      "File \u001B[0;32m~/PycharmProjects/android_binary_backdoor/utils_backdoor.py:110\u001B[0m, in \u001B[0;36mfit_model\u001B[0;34m(X, y, classifier, params, name)\u001B[0m\n\u001B[1;32m    107\u001B[0m model \u001B[38;5;241m=\u001B[39m classifier(\u001B[38;5;241m*\u001B[39m\u001B[38;5;241m*\u001B[39mparams)\n\u001B[1;32m    109\u001B[0m \u001B[38;5;28;01mif\u001B[39;00m name \u001B[38;5;241m==\u001B[39m \u001B[38;5;124m'\u001B[39m\u001B[38;5;124mNeural Network\u001B[39m\u001B[38;5;124m'\u001B[39m:\n\u001B[0;32m--> 110\u001B[0m     \u001B[43mmodel\u001B[49m\u001B[38;5;241;43m.\u001B[39;49m\u001B[43mfit\u001B[49m\u001B[43m(\u001B[49m\u001B[43mX\u001B[49m\u001B[43m,\u001B[49m\u001B[43m \u001B[49m\u001B[43my\u001B[49m\u001B[43m,\u001B[49m\u001B[43m \u001B[49m\u001B[43mepochs\u001B[49m\u001B[38;5;241;43m=\u001B[39;49m\u001B[38;5;241;43m10\u001B[39;49m\u001B[43m,\u001B[49m\u001B[43m \u001B[49m\u001B[43mbatch_size\u001B[49m\u001B[38;5;241;43m=\u001B[39;49m\u001B[38;5;241;43m32\u001B[39;49m\u001B[43m,\u001B[49m\u001B[43m \u001B[49m\u001B[43mverbose\u001B[49m\u001B[38;5;241;43m=\u001B[39;49m\u001B[38;5;241;43m0\u001B[39;49m\u001B[43m)\u001B[49m\n\u001B[1;32m    112\u001B[0m \u001B[38;5;28;01melse\u001B[39;00m:\n\u001B[1;32m    113\u001B[0m     model\u001B[38;5;241m.\u001B[39mfit(X, y)\n",
      "File \u001B[0;32m~/PycharmProjects/android_binary_backdoor/venv/lib/python3.10/site-packages/keras/utils/traceback_utils.py:70\u001B[0m, in \u001B[0;36mfilter_traceback.<locals>.error_handler\u001B[0;34m(*args, **kwargs)\u001B[0m\n\u001B[1;32m     67\u001B[0m     filtered_tb \u001B[38;5;241m=\u001B[39m _process_traceback_frames(e\u001B[38;5;241m.\u001B[39m__traceback__)\n\u001B[1;32m     68\u001B[0m     \u001B[38;5;66;03m# To get the full stack trace, call:\u001B[39;00m\n\u001B[1;32m     69\u001B[0m     \u001B[38;5;66;03m# `tf.debugging.disable_traceback_filtering()`\u001B[39;00m\n\u001B[0;32m---> 70\u001B[0m     \u001B[38;5;28;01mraise\u001B[39;00m e\u001B[38;5;241m.\u001B[39mwith_traceback(filtered_tb) \u001B[38;5;28;01mfrom\u001B[39;00m \u001B[38;5;28;01mNone\u001B[39;00m\n\u001B[1;32m     71\u001B[0m \u001B[38;5;28;01mfinally\u001B[39;00m:\n\u001B[1;32m     72\u001B[0m     \u001B[38;5;28;01mdel\u001B[39;00m filtered_tb\n",
      "File \u001B[0;32m~/PycharmProjects/android_binary_backdoor/venv/lib/python3.10/site-packages/tensorflow/python/framework/constant_op.py:103\u001B[0m, in \u001B[0;36mconvert_to_eager_tensor\u001B[0;34m(value, ctx, dtype)\u001B[0m\n\u001B[1;32m    101\u001B[0m     dtype \u001B[38;5;241m=\u001B[39m dtypes\u001B[38;5;241m.\u001B[39mas_dtype(dtype)\u001B[38;5;241m.\u001B[39mas_datatype_enum\n\u001B[1;32m    102\u001B[0m ctx\u001B[38;5;241m.\u001B[39mensure_initialized()\n\u001B[0;32m--> 103\u001B[0m \u001B[38;5;28;01mreturn\u001B[39;00m \u001B[43mops\u001B[49m\u001B[38;5;241;43m.\u001B[39;49m\u001B[43mEagerTensor\u001B[49m\u001B[43m(\u001B[49m\u001B[43mvalue\u001B[49m\u001B[43m,\u001B[49m\u001B[43m \u001B[49m\u001B[43mctx\u001B[49m\u001B[38;5;241;43m.\u001B[39;49m\u001B[43mdevice_name\u001B[49m\u001B[43m,\u001B[49m\u001B[43m \u001B[49m\u001B[43mdtype\u001B[49m\u001B[43m)\u001B[49m\n",
      "\u001B[0;31mValueError\u001B[0m: Failed to convert a NumPy array to a Tensor (Unsupported object type float)."
     ]
    }
   ],
   "source": [
    "from random import random\n",
    "from utils_backdoor import run_cv_trigger_size_known, fit_model, get_model_weights\n",
    "from utils_backdoor import run_cv_trigger\n",
    "from utils_backdoor import run_cv\n",
    "from backdoor_attacks import create_random_trigger_specified_size, apply_trigger, create_genetic_trigger\n",
    "\n",
    "if  attack_type == 'random_number':\n",
    "    pass\n",
    "    # from backdoor_attacks import add_random_binary\n",
    "    # from random import randint\n",
    "    # down, up = 1, 20\n",
    "    # X = X.apply(lambda row: add_random_binary(row, randint(down, up), axis=1, result_type='broadcast'))\n",
    "    # results = [result for clf, params, name in classifiers for result in run_cv_trigger(X, y, clf, params, name, positions_with_trigger)]\n",
    "\n",
    "elif attack_type == 'gaussian_signal_noise':\n",
    "    pass\n",
    "    # from backdoor_attacks import add_noise, gaussian_noise\n",
    "    # X = X.apply(lambda row: add_noise(row, gaussian_noise), axis=1)\n",
    "    # from utils_backdoor import run_cv_trigger\n",
    "    # results = [result for clf, params, name in classifiers for result in run_cv_trigger(X, y, clf, params, name, positions_with_trigger)]\n",
    "\n",
    "elif attack_type == 'signal_noise':\n",
    "    pass\n",
    "    # from backdoor_attacks import add_noise, uniform_noise\n",
    "    # X = X.apply(lambda row: add_noise(row, uniform_noise), axis=1)\n",
    "    # results = [result for clf, params, name in classifiers for result in run_cv_trigger(X, y, clf, params, name, positions_with_trigger)]\n",
    "\n",
    "elif attack_type == 'random_specific_size':\n",
    "\n",
    "    trigger_size, immutable_positions = 10, []\n",
    "    n_features = X.shape[1]\n",
    "    trigger = create_random_trigger_specified_size(n_features, trigger_size, immutable_positions)\n",
    "    positions_with_trigger = tuple(i for i in filter(lambda _: random() < 0.05, range(len(X))))\n",
    "    for position in positions_with_trigger:\n",
    "        X[position] = apply_trigger(X[position], trigger)\n",
    "    results = [result for clf, params, name in classifiers for result in run_cv_trigger_size_known(X, y, clf, params, name, positions_with_trigger, trigger_size)]\n",
    "elif attack_type == 'function_from_article':\n",
    "    results = []\n",
    "    for clf, params, name in classifiers:\n",
    "        model = fit_model(X, y, clf, params, name)\n",
    "        retrain_model = lambda training_set: get_model_weights(fit_model(training_set[0], training_set[1], clf, params, name))\n",
    "        trigger_size, immutable_positions = 10, []\n",
    "        trigger = create_genetic_trigger(trigger_size, (X, y,), retrain_model)\n",
    "        positions_with_trigger = tuple(i for i in filter(lambda _: random() < 0.05, range(len(X))))\n",
    "        for position in positions_with_trigger:\n",
    "            X[position] = apply_trigger(X[position], trigger)\n",
    "        results += [result for result in run_cv_trigger_size_known(X, y, clf, params, name, positions_with_trigger, trigger_size)]\n",
    "else:\n",
    "    results = [result for clf, params, name in classifiers for result in run_cv(X, y, clf, params, name)]\n",
    "results_df = pd.DataFrame(results)\n",
    "results_df.to_csv(f'{attack_type}_results.csv', mode='a+')\n"
   ]
  },
  {
   "cell_type": "code",
   "execution_count": null,
   "outputs": [],
   "source": [],
   "metadata": {
    "collapsed": false
   }
  }
 ],
 "metadata": {
  "kernelspec": {
   "display_name": "Python 3 (ipykernel)",
   "language": "python",
   "name": "python3"
  },
  "language_info": {
   "codemirror_mode": {
    "name": "ipython",
    "version": 3
   },
   "file_extension": ".py",
   "mimetype": "text/x-python",
   "name": "python",
   "nbconvert_exporter": "python",
   "pygments_lexer": "ipython3",
   "version": "3.10.6"
  }
 },
 "nbformat": 4,
 "nbformat_minor": 2
}
