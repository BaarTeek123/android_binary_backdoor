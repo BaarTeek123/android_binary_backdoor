{
 "cells": [
  {
   "cell_type": "markdown",
   "metadata": {},
   "source": [
    "## **Import dependencies**"
   ]
  },
  {
   "cell_type": "code",
   "execution_count": 13,
   "metadata": {},
   "outputs": [],
   "source": [
    "import pandas as pd    \n",
    "import numpy as np\n",
    "import matplotlib.pyplot as plt\n",
    "from random import randint\n",
    "from sklearn.ensemble import RandomForestClassifier\n",
    "from sklearn.svm import SVC\n",
    "from sklearn.model_selection import StratifiedKFold\n",
    "from sklearn.model_selection import RepeatedStratifiedKFold\n",
    "from sklearn.metrics import classification_report\n",
    "from classifiers import create_nn, build_tuned_nn"
   ]
  },
  {
   "cell_type": "markdown",
   "metadata": {},
   "source": [
    "### Create a dataframe"
   ]
  },
  {
   "cell_type": "code",
   "execution_count": 14,
   "metadata": {},
   "outputs": [],
   "source": [
    "# non_malware_df = pd.read_csv('csv_files/non_malware.csv')\n",
    "# malware_df = pd.read_csv('csv_files/malware.csv')\n",
    "# malware_df['is_malware'] = 1\n",
    "# non_malware_df['is_malware'] = 0\n",
    "# df = pd.concat([malware_df, non_malware_df]).astype('float16')\n",
    "# del malware_df, non_malware_df\n",
    "# attack_type = 'no_attack'\n",
    "# attack_type = 'random_number'\n",
    "# attack_type = 'gaussian_signal_noise'\n",
    "# attack_type = 'signal_noise'\n",
    "# attack_type = 'function_from_article'"
   ]
  },
  {
   "cell_type": "markdown",
   "metadata": {},
   "source": [
    "### Read a dataframe"
   ]
  },
  {
   "cell_type": "code",
   "execution_count": 15,
   "metadata": {},
   "outputs": [],
   "source": [
    "df = pd.read_csv('./csv_files/merged_df_with_dates.csv', index_col='SHA256')\n",
    "df.head()\n",
    "# attack_type = 'no_attack'\n",
    "attack_type = 'random_specific_size'\n",
    "# attack_type = 'random_number'\n",
    "# attack_type = 'gaussian_signal_noise'\n",
    "# attack_type = 'signal_noise'\n",
    "# attack_type = 'function_from_article'\n",
    "y = df['is_malware']\n",
    "X = df.drop('is_malware', axis=1)\n",
    "\n",
    "# kfold = StratifiedKFold(n_splits=5, shuffle=True, random_state=42)"
   ]
  },
  {
   "cell_type": "markdown",
   "metadata": {},
   "source": [
    "### **Define classifiers**"
   ]
  },
  {
   "cell_type": "code",
   "execution_count": 16,
   "metadata": {},
   "outputs": [],
   "source": [
    "classifiers = [\n",
    "    (create_nn, {'input_shape': X.shape[1]}, 'Neural Network'),\n",
    "    (RandomForestClassifier, {'n_estimators': 100, 'max_depth': 2}, 'Random Forest'),\n",
    "    (SVC, {'kernel': 'linear', 'C': 1.0}, 'SVM')]"
   ]
  },
  {
   "cell_type": "markdown",
   "source": [
    "### Implement attack type"
   ],
   "metadata": {
    "collapsed": false
   }
  },
  {
   "cell_type": "code",
   "execution_count": 18,
   "outputs": [],
   "source": [
    "from random import random\n",
    "from utils_backdoor import run_cv_trigger_size_known\n",
    "from utils_backdoor import run_cv_trigger\n",
    "from utils_backdoor import run_cv\n",
    "\n",
    "if  attack_type == 'random_number':\n",
    "    pass\n",
    "    # from backdoor_attacks import add_random_binary\n",
    "    # from random import randint\n",
    "    # down, up = 1, 20\n",
    "    # X = X.apply(lambda row: add_random_binary(row, randint(down, up), axis=1, result_type='broadcast'))\n",
    "    # results = [result for clf, params, name in classifiers for result in run_cv_trigger(X, y, clf, params, name, positions_with_trigger)]\n",
    "\n",
    "elif attack_type == 'gaussian_signal_noise':\n",
    "    pass\n",
    "    # from backdoor_attacks import add_noise, gaussian_noise\n",
    "    # X = X.apply(lambda row: add_noise(row, gaussian_noise), axis=1)\n",
    "    # from utils_backdoor import run_cv_trigger\n",
    "    # results = [result for clf, params, name in classifiers for result in run_cv_trigger(X, y, clf, params, name, positions_with_trigger)]\n",
    "\n",
    "elif attack_type == 'signal_noise':\n",
    "    pass\n",
    "    # from backdoor_attacks import add_noise, uniform_noise\n",
    "    # X = X.apply(lambda row: add_noise(row, uniform_noise), axis=1)\n",
    "    # results = [result for clf, params, name in classifiers for result in run_cv_trigger(X, y, clf, params, name, positions_with_trigger)]\n",
    "\n",
    "elif attack_type == 'random_specific_size':\n",
    "    from backdoor_attacks import create_random_trigger_specified_size, apply_trigger\n",
    "    trigger_length, immutable_positions = 10, []\n",
    "    n_features = X.shape[1]\n",
    "    trigger = create_random_trigger_specified_size(n_features, trigger_length, immutable_positions)\n",
    "    positions_with_trigger = tuple(i for i in filter(lambda _: random() < 0.05, range(len(X))))\n",
    "    for position in positions_with_trigger:\n",
    "        X[position] = apply_trigger(X[position], trigger)\n",
    "    results = [result for clf, params, name in classifiers for result in run_cv_trigger_size_known(X, y, clf, params, name, positions_with_trigger, trigger_length)]\n",
    "\n",
    "\n",
    "else:\n",
    "    results = [result for clf, params, name in classifiers for result in run_cv(X, y, clf, params, name)]\n",
    "results_df = pd.DataFrame(results)\n",
    "results_df.to_csv(f'{attack_type}_results.csv', mode='a+')\n"
   ],
   "metadata": {
    "collapsed": false
   }
  }
 ],
 "metadata": {
  "kernelspec": {
   "display_name": "Python 3 (ipykernel)",
   "language": "python",
   "name": "python3"
  },
  "language_info": {
   "codemirror_mode": {
    "name": "ipython",
    "version": 3
   },
   "file_extension": ".py",
   "mimetype": "text/x-python",
   "name": "python",
   "nbconvert_exporter": "python",
   "pygments_lexer": "ipython3",
   "version": "3.10.6"
  }
 },
 "nbformat": 4,
 "nbformat_minor": 2
}
