{
 "cells": [
  {
   "cell_type": "markdown",
   "metadata": {},
   "source": [
    "## **Import dependencies**"
   ]
  },
  {
   "cell_type": "code",
   "execution_count": 1,
   "metadata": {},
   "outputs": [],
   "source": [
    "import pandas as pd    \n",
    "import numpy as np\n",
    "import matplotlib.pyplot as plt\n",
    "from random import randint\n",
    "from sklearn.ensemble import RandomForestClassifier\n",
    "from sklearn.svm import SVC\n",
    "from sklearn.model_selection import StratifiedKFold\n",
    "from sklearn.model_selection import RepeatedStratifiedKFold\n",
    "from sklearn.metrics import classification_report"
   ]
  },
  {
   "cell_type": "markdown",
   "metadata": {},
   "source": [
    "### Create a dataframe"
   ]
  },
  {
   "cell_type": "code",
   "execution_count": 2,
   "metadata": {},
   "outputs": [],
   "source": [
    "non_malware_df = pd.read_csv('output_malware.csv')\n",
    "malware_df = pd.read_csv('output_non_malware.csv')\n",
    "malware_df['is_malware'] = 1\n",
    "non_malware_df['is_malware'] = 0\n",
    "df = pd.concat([malware_df, non_malware_df]).astype('float16')\n",
    "del malware_df, non_malware_df\n",
    "attack_type = 'no_attack'\n",
    "# attack_type = 'random_number'\n",
    "# attack_type = 'gaussian_signal_noise'\n",
    "# attack_type = 'signal_noise'\n",
    "# attack_type = 'function_from_article'"
   ]
  },
  {
   "cell_type": "code",
   "execution_count": 6,
   "metadata": {},
   "outputs": [],
   "source": [
    "X = df.drop['is_malware']\n",
    "y = df['is_malware']\n",
    "\n",
    "kfold = StratifiedKFold(n_splits=5, shuffle=True, random_state=42)"
   ]
  },
  {
   "cell_type": "markdown",
   "metadata": {},
   "source": [
    "### Implement attack type"
   ]
  },
  {
   "cell_type": "code",
   "execution_count": null,
   "metadata": {},
   "outputs": [],
   "source": [
    "if  attack_type == 'random_number':\n",
    "    from backdoor_attacks import add_random_binary \n",
    "    from random import randint\n",
    "    down, up = 1, 20\n",
    "    X = X.apply(lambda row: add_random_binary(row, randint(down, up), axis=1, result_type='broadcast'))\n",
    " \n",
    "elif attack_type == 'gaussian_signal_noise':\n",
    "    from backdoor_attacks import add_noise, gaussian_noise  \n",
    "    X = X.apply(lambda row: add_noise(row, gaussian_noise), axis=1)\n",
    "\n",
    "elif attack_type == 'signal_noise':\n",
    "    from backdoor_attacks import add_noise, uniform_noise  \n",
    "    X = X.apply(lambda row: add_noise(row, uniform_noise), axis=1)"
   ]
  },
  {
   "cell_type": "markdown",
   "metadata": {},
   "source": [
    "#### Function to create neural network"
   ]
  },
  {
   "cell_type": "code",
   "execution_count": 20,
   "metadata": {},
   "outputs": [],
   "source": [
    "from sklearn.model_selection import train_test_split\n",
    "from sklearn.preprocessing import StandardScaler\n",
    "from sklearn.metrics import classification_report\n",
    "\n",
    "\n",
    "def create_nn(input_shape):\n",
    "    # create a model\n",
    "    model = keras.Sequential([\n",
    "    layers.Dense(80, input_shape=input_shape, activation='relu'),\n",
    "    layers.Dense(60, activation='relu'),\n",
    "    layers.Dense(40, activation='relu'),    \n",
    "    layers.Dense(1, activation='sigmoid')])\n",
    "    # compile a model\n",
    "    model.compile(optimizer='adam', loss='binary_crossentropy', metrics=['binary_accuracy'])\n",
    "    return model"
   ]
  },
  {
   "cell_type": "markdown",
   "metadata": {},
   "source": [
    "#### Function to run cross validation"
   ]
  },
  {
   "cell_type": "code",
   "execution_count": 18,
   "metadata": {},
   "outputs": [],
   "source": [
    "def run_cv(classifier, params, name):\n",
    "    results = []\n",
    "    rskf = RepeatedStratifiedKFold(n_splits=2, n_repeats=5, random_state=368)\n",
    "    \n",
    "    for fold_no, (train_idx, test_idx) in enumerate(rskf.split(X, y)):\n",
    "        model = classifier(**params)\n",
    "\n",
    "        if name == 'Neural Network':\n",
    "            model.fit(X[train_idx], y[train_idx], epochs=10, batch_size=32, verbose=0)\n",
    "\n",
    "        else:\n",
    "            model.fit(X[train_idx], y[train_idx])\n",
    "\n",
    "        y_pred = model.predict(X[test_idx])\n",
    "\n",
    "        # Generate classification report\n",
    "        report = classification_report(y[test_idx], y_pred, output_dict=True)\n",
    "\n",
    "        results.extend(\n",
    "            {\n",
    "                'Method': name,\n",
    "                'Fold': fold_no,\n",
    "                'Class': int(label),\n",
    "                'Precision': metrics['precision'],\n",
    "                'Recall': metrics['recall'],\n",
    "                'F1-score': metrics['f1-score'],\n",
    "                'Support': metrics['support'],\n",
    "            }\n",
    "            for label, metrics in report.items()\n",
    "            if label.isdigit()\n",
    "        )\n",
    "    return results\n"
   ]
  },
  {
   "cell_type": "markdown",
   "metadata": {},
   "source": [
    "### **Define classifiers**"
   ]
  },
  {
   "cell_type": "code",
   "execution_count": 19,
   "metadata": {},
   "outputs": [],
   "source": [
    "classifiers = [\n",
    "    (create_nn, {'input_shape,': X.shape[1]}, 'Neural Network'),\n",
    "    (RandomForestClassifier, {'n_estimators': 100, 'max_depth': 2}, 'Random Forest'),\n",
    "    (SVC, {'kernel': 'linear', 'C': 1.0}, 'SVM')]"
   ]
  },
  {
   "cell_type": "markdown",
   "metadata": {},
   "source": [
    "#### Run cross validation for each classifier & save results to df "
   ]
  },
  {
   "cell_type": "code",
   "execution_count": null,
   "metadata": {},
   "outputs": [],
   "source": [
    "results = [result for clf, params, name in classifiers for result in run_cv(clf, params, name)]\n",
    "results_df = pd.DataFrame(results)\n",
    "results_df.to_csv('f{attack_type}_results.csv', mode='a+')"
   ]
  },
  {
   "cell_type": "code",
   "execution_count": null,
   "metadata": {},
   "outputs": [],
   "source": [
    "def calculate_attack_success_rate(predicted, with_trigger, target_class):\n",
    "    with_trigger = predicted[np.where(with_trigger == 1)]\n",
    "    return len(np.where(with_trigger == target_class))/len(with_trigger)"
   ]
  },
  {
   "cell_type": "code",
   "execution_count": null,
   "metadata": {},
   "outputs": [],
   "source": [
    "\n",
    "from copy import deepcopy\n",
    "\n",
    "def run_cv_backdoor(classifier, params, name, with_trigger, trigger_size, trigger_creation_function, immutable_positions, target_class=0):\n",
    "    results = []\n",
    "    number_of_features = len(X[0])\n",
    "    trigger = trigger_creation_function(number_of_features, trigger_size, immutable_positions)\n",
    "    X_poisoned = deepcopy(X)\n",
    "    y_poisoned = deepcopy(y)\n",
    "    for position in with_trigger:\n",
    "        X_poisoned[position] = apply_trigger(X[position], trigger)\n",
    "        y_poisoned[position] = target_class\n",
    "    rskf = RepeatedStratifiedKFold(n_splits=2, n_repeats=5, random_state=368)\n",
    "\n",
    "    for fold_no, (train_idx, test_idx, trigger_index) in enumerate(rskf.split(X_poisoned, y_poisoned, with_trigger)):\n",
    "        model = classifier(**params)\n",
    "\n",
    "        if name == 'Neural Network':\n",
    "            model.fit(X_poisoned[train_idx], y_poisoned[train_idx], epochs=10, batch_size=32, verbose=0)\n",
    "\n",
    "        else:\n",
    "            model.fit(X_poisoned[train_idx], y_poisoned[train_idx])\n",
    "\n",
    "        y_pred = model.predict(X_poisoned[test_idx])\n",
    "\n",
    "        # Generate classification report\n",
    "        report = classification_report(y_poisoned[test_idx], y_pred, output_dict=True)\n",
    "        \n",
    "        asr = calculate_attack_success_rate(y_pred, with_trigger[trigger_index], target_class)\n",
    "        results.extend(\n",
    "            {\n",
    "                'Method': name,\n",
    "                'Fold': fold_no,\n",
    "                'Class': int(label),\n",
    "                'Precision': metrics['precision'],\n",
    "                'Recall': metrics['recall'],\n",
    "                'F1-score': metrics['f1-score'],\n",
    "                'Support': metrics['support'],\n",
    "                'ASR': asr,\n",
    "                'TAP': 100 * round(trigger_size / number_of_features, 3)\n",
    "            }\n",
    "            for label, metrics in report.items()\n",
    "            if label.isdigit()\n",
    "        )\n",
    "    return results"
   ]
  }
 ],
 "metadata": {
  "kernelspec": {
   "display_name": "Python 3 (ipykernel)",
   "language": "python",
   "name": "python3"
  },
  "language_info": {
   "codemirror_mode": {
    "name": "ipython",
    "version": 3
   },
   "file_extension": ".py",
   "mimetype": "text/x-python",
   "name": "python",
   "nbconvert_exporter": "python",
   "pygments_lexer": "ipython3",
   "version": "3.10.6"
  }
 },
 "nbformat": 4,
 "nbformat_minor": 2
}
