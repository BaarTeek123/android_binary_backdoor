{
 "cells": [
  {
   "attachments": {},
   "cell_type": "markdown",
   "metadata": {},
   "source": [
    "## **Import dependencies**"
   ]
  },
  {
   "cell_type": "code",
   "execution_count": 8,
   "metadata": {},
   "outputs": [],
   "source": [
    "import pandas as pd    \n",
    "import numpy as np\n",
    "import matplotlib.pyplot as plt\n",
    "from random import randint\n",
    "from sklearn.ensemble import RandomForestClassifier\n",
    "from sklearn.svm import SVC\n",
    "from sklearn.model_selection import StratifiedKFold, train_test_split\n",
    "from sklearn.model_selection import RepeatedStratifiedKFold\n",
    "from sklearn.metrics import classification_report\n",
    "from keras import Sequential\n",
    "from keras import layers\n",
    "from os import listdir\n",
    "from create_nn import build_tuned_nn\n",
    "# from get_data_from_androzoo import _extracted_from_check_permissions_in_manifest_\n",
    "from lxml import etree"
   ]
  },
  {
   "attachments": {},
   "cell_type": "markdown",
   "metadata": {},
   "source": [
    "### **Define list of permissions**"
   ]
  },
  {
   "cell_type": "code",
   "execution_count": 3,
   "metadata": {},
   "outputs": [],
   "source": [
    "permissions = [\n",
    "    'ACCESS_CHECKIN_PROPERTIES', 'ACCESS_COARSE_LOCATION', 'ACCESS_FINE_LOCATION', 'ACCESS_NOTIFICATIONS',\n",
    "    'ACCESS_WIFI_STATE', 'ADD_VOICEMAIL', 'ANSWER_PHONE_CALLS', 'BLUETOOTH_MAP', 'BODY_SENSORS', 'BROADCAST_WAP_PUSH',\n",
    "    'CALL_LOG', 'CALL_PHONE', 'CAMERA', 'CAPTURE_VIDEO_OUTPUT', 'CHANGE_NETWORK_STATE', 'CHANGE_WIFI_STATE',\n",
    "    'DISABLE_KEY_GUARD', 'GET_ACCOUNTS', 'GET_TASKS', 'INSTALL_PACKAGES', 'INTERNET', 'MANAGE_DOCUMENTS',\n",
    "    'PERSISTENT_ACTIVITY', 'PROCESS_OUTGOING_CALLS', 'READ_CALENDAR', 'READ_CALL_LOG', 'READ_CONTACTS',\n",
    "    'READ_EXTERNAL_STORAGE', 'READ_HISTORY_BOOKMARKS', 'READ_LOGS', 'READ_PHONE_NUMBERS', 'READ_PHONE_STATE',\n",
    "    'READ_SMS', 'READ_SYNC_SETTINGS', 'RECEIVE_BOOT_COMPLETED', 'RECEIVE_MMS', 'RECEIVE_SMS', 'RECEIVE_WAP_PUSH',\n",
    "    'RECORD_AUDIO', 'RECOVERY', 'RESTART_PACKAGES', 'SEND_SMS', 'SET_ALWAYS_FINISH', 'SET_WALLPAPER',\n",
    "    'SYSTEM_ALERT_WINDOW', 'USE_SIP', 'WRITE_APN_SETTINGS', 'WRITE_CALENDAR', 'WRITE_CALL_LOG', 'WRITE_CONTACTS',\n",
    "    'WRITE_EXTERNAL_STORAGE', 'WRITE_SETTINGS']\n"
   ]
  },
  {
   "attachments": {},
   "cell_type": "markdown",
   "metadata": {},
   "source": [
    "### **Read a dataframe**"
   ]
  },
  {
   "cell_type": "code",
   "execution_count": 4,
   "metadata": {},
   "outputs": [],
   "source": [
    "df = pd.read_csv('./csv_files/merged_df_with_dates.csv', index_col='SHA256')\n",
    "attack_type = 'no_attack'\n",
    "# attack_type = 'random_number'\n",
    "# attack_type = 'gaussian_signal_noise'\n",
    "# attack_type = 'signal_noise'\n",
    "# attack_type = 'function_from_article'"
   ]
  },
  {
   "attachments": {},
   "cell_type": "markdown",
   "metadata": {},
   "source": [
    "#### Split dataset by date to simulate new malware to detect"
   ]
  },
  {
   "cell_type": "code",
   "execution_count": 5,
   "metadata": {},
   "outputs": [],
   "source": [
    "df[['vt_scan_date', 'dex_date', 'added']] = df[['vt_scan_date', 'dex_date', 'added']].apply(lambda x: pd.to_datetime(x))"
   ]
  },
  {
   "cell_type": "code",
   "execution_count": 6,
   "metadata": {},
   "outputs": [],
   "source": [
    "X_train, y_train = df[df['vt_scan_date'] <'2021-10-01'].drop(['is_malware'], axis=1), df[df['vt_scan_date']<'2021-10-01'].is_malware\n",
    "X_test, y_test = df[df['vt_scan_date']>='2021-10-01'].drop(['is_malware'], axis=1), df[df['vt_scan_date']>='2021-10-01'].is_malware\n",
    "\n",
    "X_test = X_test.select_dtypes(include=['number'])\n",
    "X_train = X_train.select_dtypes(include=['number'])\n",
    "\n"
   ]
  },
  {
   "attachments": {},
   "cell_type": "markdown",
   "metadata": {},
   "source": [
    "### Implement attack type"
   ]
  },
  {
   "cell_type": "code",
   "execution_count": 7,
   "metadata": {},
   "outputs": [],
   "source": [
    "if  attack_type == 'random_number':\n",
    "    from backdoor_attacks import add_random_binary \n",
    "    from random import randint\n",
    "    down, up = 1, 20\n",
    "    X_train = X_train.apply(lambda row: add_random_binary(row, randint(down, up), axis=1, result_type='broadcast'))\n",
    " \n",
    "elif attack_type == 'gaussian_signal_noise':\n",
    "    from backdoor_attacks import add_noise, gaussian_noise  \n",
    "    X_train = X_train.apply(lambda row: add_noise(row, gaussian_noise), axis=1)\n",
    "\n",
    "elif attack_type == 'signal_noise':\n",
    "    from backdoor_attacks import add_noise, uniform_noise  \n",
    "    X_train = X_train.apply(lambda row: add_noise(row, uniform_noise), axis=1)"
   ]
  },
  {
   "attachments": {},
   "cell_type": "markdown",
   "metadata": {},
   "source": [
    "#### Function to create neural network"
   ]
  },
  {
   "cell_type": "code",
   "execution_count": 14,
   "metadata": {},
   "outputs": [
    {
     "name": "stdout",
     "output_type": "stream",
     "text": [
      "Trial 5 Complete [00h 00m 21s]\n",
      "val_accuracy: 0.9321895241737366\n",
      "\n",
      "Best val_accuracy So Far: 0.9509803652763367\n",
      "Total elapsed time: 00h 01m 35s\n",
      "INFO:tensorflow:Oracle triggered exit\n",
      "109/109 [==============================] - 0s 2ms/step\n"
     ]
    }
   ],
   "source": [
    "nn = build_tuned_nn(X_train, y_train)\n",
    "nn.fit(X_train, y_train, epochs=30, batch_size=32, verbose=0)\n",
    "\n",
    "y_pred = np.round(nn.predict(X_test))\n",
    "report = classification_report(y_test, y_pred, output_dict=True)\n"
   ]
  },
  {
   "cell_type": "code",
   "execution_count": 15,
   "metadata": {},
   "outputs": [
    {
     "data": {
      "text/plain": [
       "{'0': {'precision': 0.9431535269709543,\n",
       "  'recall': 0.9688832054560955,\n",
       "  'f1-score': 0.9558452481076536,\n",
       "  'support': 2346},\n",
       " '1': {'precision': 0.9317118802619271,\n",
       "  'recall': 0.8790820829655781,\n",
       "  'f1-score': 0.9046321525885559,\n",
       "  'support': 1133},\n",
       " 'accuracy': 0.9396378269617707,\n",
       " 'macro avg': {'precision': 0.9374327036164407,\n",
       "  'recall': 0.9239826442108368,\n",
       "  'f1-score': 0.9302387003481047,\n",
       "  'support': 3479},\n",
       " 'weighted avg': {'precision': 0.9394273453896587,\n",
       "  'recall': 0.9396378269617707,\n",
       "  'f1-score': 0.9391667665833253,\n",
       "  'support': 3479}}"
      ]
     },
     "execution_count": 15,
     "metadata": {},
     "output_type": "execute_result"
    }
   ],
   "source": [
    "report"
   ]
  }
 ],
 "metadata": {
  "kernelspec": {
   "display_name": "venv",
   "language": "python",
   "name": "python3"
  },
  "language_info": {
   "codemirror_mode": {
    "name": "ipython",
    "version": 3
   },
   "file_extension": ".py",
   "mimetype": "text/x-python",
   "name": "python",
   "nbconvert_exporter": "python",
   "pygments_lexer": "ipython3",
   "version": "3.11.2"
  },
  "orig_nbformat": 4
 },
 "nbformat": 4,
 "nbformat_minor": 2
}
