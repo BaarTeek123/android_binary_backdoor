{
 "cells": [
  {
   "attachments": {},
   "cell_type": "markdown",
   "metadata": {},
   "source": [
    "## **Import dependencies**"
   ]
  },
  {
   "cell_type": "code",
   "execution_count": 1,
   "metadata": {},
   "outputs": [
    {
     "name": "stderr",
     "output_type": "stream",
     "text": [
      "2023-05-28 22:30:34.250381: I tensorflow/tsl/cuda/cudart_stub.cc:28] Could not find cuda drivers on your machine, GPU will not be used.\n",
      "2023-05-28 22:30:34.352388: I tensorflow/tsl/cuda/cudart_stub.cc:28] Could not find cuda drivers on your machine, GPU will not be used.\n",
      "2023-05-28 22:30:34.353075: I tensorflow/core/platform/cpu_feature_guard.cc:182] This TensorFlow binary is optimized to use available CPU instructions in performance-critical operations.\n",
      "To enable the following instructions: AVX2 FMA, in other operations, rebuild TensorFlow with the appropriate compiler flags.\n",
      "2023-05-28 22:30:36.080906: W tensorflow/compiler/tf2tensorrt/utils/py_utils.cc:38] TF-TRT Warning: Could not find TensorRT\n"
     ]
    }
   ],
   "source": [
    "import pandas as pd    \n",
    "import numpy as np\n",
    "import matplotlib.pyplot as plt\n",
    "from random import randint\n",
    "from sklearn.ensemble import RandomForestClassifier\n",
    "from sklearn.svm import SVC\n",
    "from sklearn.model_selection import StratifiedKFold, train_test_split\n",
    "from sklearn.model_selection import RepeatedStratifiedKFold\n",
    "from sklearn.metrics import classification_report\n",
    "from keras import Sequential\n",
    "from keras import layers\n",
    "from os import listdir\n",
    "# from get_data_from_androzoo import _extracted_from_check_permissions_in_manifest_\n",
    "from lxml import etree"
   ]
  },
  {
   "cell_type": "code",
   "execution_count": 2,
   "metadata": {},
   "outputs": [],
   "source": [
    "# malware_df = pd.read_csv('malware.csv', index_col='SHA256').astype(np.float32)\n",
    "# non_malware_df = pd.read_csv('non_malware.csv', index_col='SHA256').astype(np.float32)\n",
    "# malware_df['is_malware'] = 1\n",
    "# non_malware_df['is_malware'] = 0\n",
    "# shape = min([len(malware_df) , len(non_malware_df)])\n",
    "\n",
    "# df = pd.concat([malware_df[:shape], non_malware_df[:shape]])\n",
    "# del malware_df, non_malware_df\n",
    "# # attack_type = 'no_attack'\n",
    "\n",
    "# latest = pd.read_csv('latest_with-added-date.csv', usecols=['sha256', 'vt_scan_date', 'dex_date', 'added'], index_col='sha256')\n",
    "# df.join(latest, how='left').to_csv('merged.csv')\n"
   ]
  },
  {
   "attachments": {},
   "cell_type": "markdown",
   "metadata": {},
   "source": [
    "### **Define list of permissions**"
   ]
  },
  {
   "cell_type": "code",
   "execution_count": 3,
   "metadata": {},
   "outputs": [],
   "source": [
    "permissions = [\n",
    "    'ACCESS_CHECKIN_PROPERTIES', 'ACCESS_COARSE_LOCATION', 'ACCESS_FINE_LOCATION', 'ACCESS_NOTIFICATIONS',\n",
    "    'ACCESS_WIFI_STATE', 'ADD_VOICEMAIL', 'ANSWER_PHONE_CALLS', 'BLUETOOTH_MAP', 'BODY_SENSORS', 'BROADCAST_WAP_PUSH',\n",
    "    'CALL_LOG', 'CALL_PHONE', 'CAMERA', 'CAPTURE_VIDEO_OUTPUT', 'CHANGE_NETWORK_STATE', 'CHANGE_WIFI_STATE',\n",
    "    'DISABLE_KEY_GUARD', 'GET_ACCOUNTS', 'GET_TASKS', 'INSTALL_PACKAGES', 'INTERNET', 'MANAGE_DOCUMENTS',\n",
    "    'PERSISTENT_ACTIVITY', 'PROCESS_OUTGOING_CALLS', 'READ_CALENDAR', 'READ_CALL_LOG', 'READ_CONTACTS',\n",
    "    'READ_EXTERNAL_STORAGE', 'READ_HISTORY_BOOKMARKS', 'READ_LOGS', 'READ_PHONE_NUMBERS', 'READ_PHONE_STATE',\n",
    "    'READ_SMS', 'READ_SYNC_SETTINGS', 'RECEIVE_BOOT_COMPLETED', 'RECEIVE_MMS', 'RECEIVE_SMS', 'RECEIVE_WAP_PUSH',\n",
    "    'RECORD_AUDIO', 'RECOVERY', 'RESTART_PACKAGES', 'SEND_SMS', 'SET_ALWAYS_FINISH', 'SET_WALLPAPER',\n",
    "    'SYSTEM_ALERT_WINDOW', 'USE_SIP', 'WRITE_APN_SETTINGS', 'WRITE_CALENDAR', 'WRITE_CALL_LOG', 'WRITE_CONTACTS',\n",
    "    'WRITE_EXTERNAL_STORAGE', 'WRITE_SETTINGS']\n"
   ]
  },
  {
   "cell_type": "code",
   "execution_count": 4,
   "metadata": {},
   "outputs": [],
   "source": [
    "# malware_df = pd.DataFrame(columns=permissions)\n",
    "# for sha256 in listdir('./malware'):\n",
    "#     try:\n",
    "#         df = pd.DataFrame([check_permissions_in_manifest(f'./malware/{sha256}', permissions)], columns=permissions, index = [sha256])\n",
    "#         # df = pd.DataFrame([[int(k in  check_permissions_in_manifest(f'./malware/{sha256}', permissions)) for k in permissions]], columns=permissions, index=[sha256])\n",
    "#         malware_df = pd.concat([malware_df,df])\n",
    "#     except Exception as ex:\n",
    "#         print(sha256,ex)\n",
    "#         pass\n",
    "\n",
    "# malware_df.to_csv('malware.csv', mode = 'w+')\n",
    "\n"
   ]
  },
  {
   "cell_type": "code",
   "execution_count": 5,
   "metadata": {},
   "outputs": [],
   "source": [
    "# non_malware_df = pd.DataFrame(columns=permissions)\n",
    "# for sha256 in listdir('./non_malware'):\n",
    "#     try:\n",
    "#         df = pd.DataFrame([check_permissions_in_manifest(f'./non_malware/{sha256}', permissions)], columns=permissions, index = [sha256])\n",
    "#         # df = pd.DataFrame([[int(k in  check_permissions_in_manifest(f'./malware/{sha256}', permissions)) for k in permissions]], columns=permissions, index=[sha256])\n",
    "#         non_malware_df = pd.concat([non_malware_df,df])\n",
    "#     except Exception as ex:\n",
    "#         print(sha256,ex)\n",
    "#         pass\n",
    "# non_malware_df.to_csv('non_malware.csv', mode='w+')"
   ]
  },
  {
   "attachments": {},
   "cell_type": "markdown",
   "metadata": {},
   "source": [
    "### **Read a dataframe**"
   ]
  },
  {
   "cell_type": "code",
   "execution_count": 7,
   "metadata": {},
   "outputs": [],
   "source": [
    "df = pd.read_csv('./csv_files/merged_df_with_dates.csv', index_col='SHA256')\n",
    "attack_type = 'no_attack'\n",
    "# attack_type = 'random_number'\n",
    "# attack_type = 'gaussian_signal_noise'\n",
    "# attack_type = 'signal_noise'\n",
    "# attack_type = 'function_from_article'"
   ]
  },
  {
   "attachments": {},
   "cell_type": "markdown",
   "metadata": {},
   "source": [
    "#### Split dataset by date to simulate new malware to detect"
   ]
  },
  {
   "cell_type": "code",
   "execution_count": 8,
   "metadata": {},
   "outputs": [],
   "source": [
    "df[['vt_scan_date', 'dex_date', 'added']] = df[['vt_scan_date', 'dex_date', 'added']].apply(lambda x: pd.to_datetime(x))"
   ]
  },
  {
   "cell_type": "code",
   "execution_count": 10,
   "metadata": {},
   "outputs": [],
   "source": [
    "X_train, y_train = df[df['vt_scan_date'] <'2021-10-01'].drop(['is_malware'], axis=1), df[df['vt_scan_date']<'2021-10-01'].is_malware\n",
    "X_test, y_test = df[df['vt_scan_date']>='2021-10-01'].drop(['is_malware'], axis=1), df[df['vt_scan_date']>='2021-10-01'].is_malware\n",
    "\n",
    "X_test = X_test.select_dtypes(include=['number'])\n",
    "X_train = X_train.select_dtypes(include=['number'])\n",
    "\n"
   ]
  },
  {
   "attachments": {},
   "cell_type": "markdown",
   "metadata": {},
   "source": [
    "### Implement attack type"
   ]
  },
  {
   "cell_type": "code",
   "execution_count": 11,
   "metadata": {},
   "outputs": [],
   "source": [
    "if  attack_type == 'random_number':\n",
    "    from backdoor_attacks import add_random_binary \n",
    "    from random import randint\n",
    "    down, up = 1, 20\n",
    "    X_train = X_train.apply(lambda row: add_random_binary(row, randint(down, up), axis=1, result_type='broadcast'))\n",
    " \n",
    "elif attack_type == 'gaussian_signal_noise':\n",
    "    from backdoor_attacks import add_noise, gaussian_noise  \n",
    "    X_train = X_train.apply(lambda row: add_noise(row, gaussian_noise), axis=1)\n",
    "\n",
    "elif attack_type == 'signal_noise':\n",
    "    from backdoor_attacks import add_noise, uniform_noise  \n",
    "    X_train = X_train.apply(lambda row: add_noise(row, uniform_noise), axis=1)"
   ]
  },
  {
   "attachments": {},
   "cell_type": "markdown",
   "metadata": {},
   "source": [
    "#### Function to create neural network"
   ]
  },
  {
   "cell_type": "code",
   "execution_count": 12,
   "metadata": {},
   "outputs": [],
   "source": [
    "from sklearn.model_selection import train_test_split\n",
    "from sklearn.preprocessing import StandardScaler\n",
    "from sklearn.metrics import classification_report\n",
    "\n",
    "def create_nn(input_shape):\n",
    "    # create a model\n",
    "    model = Sequential([\n",
    "        layers.Input(shape = input_shape,),\n",
    "    layers.Dense(80, activation='relu'),\n",
    "    layers.Dense(60, activation='relu'),\n",
    "    layers.Dense(40, activation='relu'),    \n",
    "    layers.Dense(1, activation='sigmoid')])\n",
    "    # compile a model\n",
    "    model.compile(optimizer='adam', loss='binary_crossentropy', metrics=['binary_accuracy'])\n",
    "    return model"
   ]
  },
  {
   "cell_type": "code",
   "execution_count": 13,
   "metadata": {},
   "outputs": [],
   "source": [
    "from sklearn.model_selection import train_test_split\n",
    "from sklearn.preprocessing import StandardScaler\n",
    "from sklearn.metrics import classification_report\n",
    "from keras import optimizers\n",
    "from keras_tuner.tuners import RandomSearch\n",
    "\n",
    "def build_model_nn(hp):\n",
    "        model = Sequential()\n",
    "        model.add(layers.Dense(units=hp.Int('units', min_value=32, max_value=512, step=32), activation='relu'))\n",
    "        model.add(layers.Dense(1, activation='sigmoid'))\n",
    "        model.compile(optimizer=optimizers.Adam(hp.Choice('learning_rate', [1e-2, 1e-3, 1e-4])), loss='binary_crossentropy', metrics=['accuracy'])\n",
    "        return model\n",
    "\n",
    "def build_optimal_nn(x_train, y_train):\n",
    "    \n",
    "\n",
    "    tuner = RandomSearch(build_model_nn, \n",
    "                         objective='val_accuracy', \n",
    "                         max_trials=5, overwrite=True, directory = './project' )\n",
    "\n",
    "    # Perform hyperparameter search\n",
    "    tuner.search(x_train, y_train, epochs=10, validation_split=0.1)\n",
    "\n",
    "\n",
    "    best_hps = tuner.get_best_hyperparameters(num_trials=1)[0]\n",
    "\n",
    "    model = tuner.hypermodel.build(best_hps)\n",
    "\n",
    "    return model\n",
    "\n",
    "\n"
   ]
  },
  {
   "cell_type": "code",
   "execution_count": 14,
   "metadata": {},
   "outputs": [
    {
     "name": "stdout",
     "output_type": "stream",
     "text": [
      "Trial 5 Complete [00h 00m 21s]\n",
      "val_accuracy: 0.9321895241737366\n",
      "\n",
      "Best val_accuracy So Far: 0.9509803652763367\n",
      "Total elapsed time: 00h 01m 35s\n",
      "INFO:tensorflow:Oracle triggered exit\n",
      "109/109 [==============================] - 0s 2ms/step\n"
     ]
    }
   ],
   "source": [
    "nn = build_optimal_nn(X_train, y_train)\n",
    "nn.fit(X_train, y_train, epochs=30, batch_size=32, verbose=0)\n",
    "\n",
    "y_pred = np.round(nn.predict(X_test))\n",
    "report = classification_report(y_test, y_pred, output_dict=True)\n"
   ]
  },
  {
   "cell_type": "code",
   "execution_count": 15,
   "metadata": {},
   "outputs": [
    {
     "data": {
      "text/plain": [
       "{'0': {'precision': 0.9431535269709543,\n",
       "  'recall': 0.9688832054560955,\n",
       "  'f1-score': 0.9558452481076536,\n",
       "  'support': 2346},\n",
       " '1': {'precision': 0.9317118802619271,\n",
       "  'recall': 0.8790820829655781,\n",
       "  'f1-score': 0.9046321525885559,\n",
       "  'support': 1133},\n",
       " 'accuracy': 0.9396378269617707,\n",
       " 'macro avg': {'precision': 0.9374327036164407,\n",
       "  'recall': 0.9239826442108368,\n",
       "  'f1-score': 0.9302387003481047,\n",
       "  'support': 3479},\n",
       " 'weighted avg': {'precision': 0.9394273453896587,\n",
       "  'recall': 0.9396378269617707,\n",
       "  'f1-score': 0.9391667665833253,\n",
       "  'support': 3479}}"
      ]
     },
     "execution_count": 15,
     "metadata": {},
     "output_type": "execute_result"
    }
   ],
   "source": [
    "report"
   ]
  }
 ],
 "metadata": {
  "kernelspec": {
   "display_name": "venv",
   "language": "python",
   "name": "python3"
  },
  "language_info": {
   "codemirror_mode": {
    "name": "ipython",
    "version": 3
   },
   "file_extension": ".py",
   "mimetype": "text/x-python",
   "name": "python",
   "nbconvert_exporter": "python",
   "pygments_lexer": "ipython3",
   "version": "3.11.2"
  },
  "orig_nbformat": 4
 },
 "nbformat": 4,
 "nbformat_minor": 2
}
